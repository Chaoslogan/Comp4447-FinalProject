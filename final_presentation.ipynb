{
 "cells": [
  {
   "cell_type": "code",
   "execution_count": null,
   "metadata": {},
   "outputs": [],
   "source": [
    "#import program modules\n",
    "import finvest as fv"
   ]
  },
  {
   "cell_type": "markdown",
   "metadata": {},
   "source": [
    "# **Final Project**\n",
    "## Comp 4447 - Data Science Tools 1\n",
    " **By Brian McCullough**"
   ]
  },
  {
   "cell_type": "markdown",
   "metadata": {},
   "source": [
    "**Main Process :**\n",
    "I wanted to build a process that would take a company that a user is interested in which gives context on how that company measures up compared to their nearest competitors in the same space of the market."
   ]
  },
  {
   "cell_type": "markdown",
   "metadata": {},
   "source": [
    "**DS Tools 1 processes :**\n",
    "From the course, I applied the web scraping, html reading, visualizations and some regex.\n",
    "\n",
    "**Other MS of DS processes :**\n",
    "From other portions of the program, I am logging steps and processes for when the developement would break, heatmap correlations "
   ]
  },
  {
   "cell_type": "markdown",
   "metadata": {},
   "source": [
    "## **Process Overview**\n",
    "The user is asked for a ticker symbol of a publicly traded company.\\\n",
    "Some examples (but not limited to):\\\n",
    "\\\n",
    "MSFT - Microsoft - technology company\\\n",
    "META - Meta (owner of Facebook) - communications services\\\n",
    "NOC - Northrup Grumman - industrials\\\n",
    "USB - U.S. Bancorp - financials\n",
    "\n",
    "The first process will then web-scrape data about the company into a dataframe.  This data is then used to identify the Sector and Industry that this company competes in as well as determines some other company financial health characteristics to keep the comparisons as 'like-to-like' as possible.  This focuses on the Market Cap and the Debt levels of the given company and then creates a range around those characteristics to create the list of competitors.\\\n",
    "\\\n",
    "`Assign a ticker to the given ticker variable`"
   ]
  },
  {
   "cell_type": "code",
   "execution_count": null,
   "metadata": {},
   "outputs": [],
   "source": [
    "user_stock = 'PLTR'"
   ]
  },
  {
   "cell_type": "markdown",
   "metadata": {},
   "source": [
    "### Step 1: Pull basic stock information"
   ]
  },
  {
   "cell_type": "code",
   "execution_count": null,
   "metadata": {},
   "outputs": [],
   "source": [
    "main_stock_info = fv.stck_base_data(user_stock)\n",
    "main_stock_info[['Ticker\\n\\n','Company','Sector','Industry','P/E','Debt/Eq','ROA','ROE','ROI']]"
   ]
  },
  {
   "cell_type": "markdown",
   "metadata": {},
   "source": [
    "### Step 2: Find similar companies to the given stock ticker"
   ]
  },
  {
   "cell_type": "code",
   "execution_count": null,
   "metadata": {},
   "outputs": [],
   "source": [
    "sector_stock_info = fv.screen_stcks(main_stock_info)"
   ]
  },
  {
   "cell_type": "markdown",
   "metadata": {},
   "source": [
    "Some quick info on the companies that were filtered into our data"
   ]
  },
  {
   "cell_type": "code",
   "execution_count": null,
   "metadata": {},
   "outputs": [],
   "source": [
    "lngth_df = len(sector_stock_info)\n",
    "print(f\"# of companies that fit the filters = {lngth_df}\")\n",
    "print(f\"Sector: {sector_stock_info['Sector'][0]}   ///   Industry: {sector_stock_info['Industry'][0]}\")\n",
    "print(f\"Market cap range(min-max): {sector_stock_info['Market Cap'].min()//1e6}M - {sector_stock_info['Market Cap'].max()//1e9}B\")\n",
    "print(f\"Debt/Eq ratio range: {sector_stock_info['Debt/Eq'].min()} - {sector_stock_info['Debt/Eq'].max()}\")\n"
   ]
  },
  {
   "cell_type": "markdown",
   "metadata": {},
   "source": [
    "In this example we have quite a few contenders for investment but we have no reference yet on how these companies are related in terms of financial quality and value in order to know where to spend our time researching into best opportunities for investing.\\\n",
    "So we need to *rank* our companies and see how they compare to each other.\n"
   ]
  },
  {
   "cell_type": "code",
   "execution_count": null,
   "metadata": {},
   "outputs": [],
   "source": [
    "tst_stck = sector_stock_info[sector_stock_info['Ticker\\n\\n']==user_stock].index.item()\n",
    "tst_stck"
   ]
  },
  {
   "cell_type": "code",
   "execution_count": null,
   "metadata": {},
   "outputs": [],
   "source": [
    "ranked_stock_info = fv.rank_screener(sector_stock_info, user_stock)"
   ]
  },
  {
   "cell_type": "code",
   "execution_count": null,
   "metadata": {},
   "outputs": [],
   "source": [
    "print(ranked_stock_info.loc[ranked_stock_info['cat_grp'] == 1, ['Ticker\\n\\n','Company', 'cat_desc','Market Cap','P/E','P/S','P/B','P/FCF','EPS','ROA','ROE','ROI']])\n",
    "print()\n",
    "print(ranked_stock_info.loc[ranked_stock_info['cat_grp'] == 2, ['Ticker\\n\\n','Company','cat_desc','Market Cap','P/E','P/S','P/B','P/FCF','EPS','ROA','ROE','ROI']])\n",
    "print()\n",
    "print(ranked_stock_info.loc[ranked_stock_info['cat_grp'] == 3, ['Ticker\\n\\n','Company','cat_desc','Market Cap','P/E','P/S','P/B','P/FCF','EPS','ROA','ROE','ROI']])\n"
   ]
  },
  {
   "cell_type": "code",
   "execution_count": null,
   "metadata": {},
   "outputs": [],
   "source": [
    "fv.base_charting(ranked_stock_info)"
   ]
  },
  {
   "cell_type": "code",
   "execution_count": null,
   "metadata": {},
   "outputs": [],
   "source": []
  }
 ],
 "metadata": {
  "kernelspec": {
   "display_name": "final_project_venv",
   "language": "python",
   "name": "finpro"
  },
  "language_info": {
   "codemirror_mode": {
    "name": "ipython",
    "version": 3
   },
   "file_extension": ".py",
   "mimetype": "text/x-python",
   "name": "python",
   "nbconvert_exporter": "python",
   "pygments_lexer": "ipython3",
   "version": "3.10.9"
  },
  "orig_nbformat": 4
 },
 "nbformat": 4,
 "nbformat_minor": 2
}
