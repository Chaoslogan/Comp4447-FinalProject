{
 "cells": [
  {
   "cell_type": "code",
   "execution_count": 1,
   "metadata": {},
   "outputs": [],
   "source": [
    "#import program modules\n",
    "import finvest as fv"
   ]
  },
  {
   "cell_type": "markdown",
   "metadata": {},
   "source": [
    "# **Final Project**\n",
    "## Comp 4447 - Data Science Tools 1\n",
    " **By Brian McCullough**"
   ]
  },
  {
   "cell_type": "markdown",
   "metadata": {},
   "source": [
    "**Main Process :**\n",
    "I wanted to build a process that would take a company that a user is interested in which gives context on how that company measures up compared to their nearest competitors in the same space of the market."
   ]
  },
  {
   "cell_type": "markdown",
   "metadata": {},
   "source": [
    "**DS Tools 1 processes :**\n",
    "From the course, I applied the web scraping, html reading, visualizations and some regex.\n",
    "\n",
    "**Other MS of DS processes :**\n",
    "From other portions of the program, I am logging steps and processes for when the developement would break, heatmap correlations "
   ]
  },
  {
   "cell_type": "markdown",
   "metadata": {},
   "source": [
    "## **Process Overview**\n",
    "The user is asked for a ticker symbol of a publicly traded company.\\\n",
    "Some examples (but not limited to):\\\n",
    "\\\n",
    "MSFT - Microsoft - technology company\\\n",
    "META - Meta (owner of Facebook) - communications services\\\n",
    "NOC - Northrup Grumman - industrials\\\n",
    "USB - U.S. Bancorp - financials\n",
    "\n",
    "The first process will then web-scrape data about the company into a dataframe.  This data is then used to identify the Sector and Industry that this company competes in as well as determines some other company financial health characteristics to keep the comparisons as 'like-to-like' as possible.  This focuses on the Market Cap and the Debt levels of the given company and then creates a range around those characteristics to create the list of competitors.\\\n",
    "\\\n",
    "`Assign a ticker to the given ticker variable`"
   ]
  },
  {
   "cell_type": "code",
   "execution_count": 2,
   "metadata": {},
   "outputs": [],
   "source": [
    "user_stock = 'SFIX'"
   ]
  },
  {
   "cell_type": "markdown",
   "metadata": {},
   "source": [
    "### Step 1: Pull basic stock information"
   ]
  },
  {
   "cell_type": "code",
   "execution_count": 3,
   "metadata": {},
   "outputs": [
    {
     "name": "stderr",
     "output_type": "stream",
     "text": [
      "2023-08-05 20:37:26,576 - urllib3.connectionpool - DEBUG - Starting new HTTPS connection (1): finviz.com:443\n",
      "2023-08-05 20:37:26,906 - urllib3.connectionpool - DEBUG - https://finviz.com:443 \"GET /quote.ashx?t=SFIX HTTP/1.1\" 200 None\n",
      "2023-08-05 20:37:27,005 - root - INFO - get full company overview of given stock\n"
     ]
    }
   ],
   "source": [
    "main_stock_info = fv.stck_base_data(user_stock)"
   ]
  },
  {
   "cell_type": "code",
   "execution_count": 4,
   "metadata": {},
   "outputs": [
    {
     "data": {
      "text/html": [
       "<div>\n",
       "<style scoped>\n",
       "    .dataframe tbody tr th:only-of-type {\n",
       "        vertical-align: middle;\n",
       "    }\n",
       "\n",
       "    .dataframe tbody tr th {\n",
       "        vertical-align: top;\n",
       "    }\n",
       "\n",
       "    .dataframe thead th {\n",
       "        text-align: right;\n",
       "    }\n",
       "</style>\n",
       "<table border=\"1\" class=\"dataframe\">\n",
       "  <thead>\n",
       "    <tr style=\"text-align: right;\">\n",
       "      <th></th>\n",
       "      <th>Ticker\\n\\n</th>\n",
       "      <th>Company</th>\n",
       "      <th>Sector</th>\n",
       "      <th>Industry</th>\n",
       "      <th>P/E</th>\n",
       "      <th>Debt/Eq</th>\n",
       "      <th>ROA</th>\n",
       "      <th>ROE</th>\n",
       "      <th>ROI</th>\n",
       "    </tr>\n",
       "  </thead>\n",
       "  <tbody>\n",
       "    <tr>\n",
       "      <th>0</th>\n",
       "      <td>SFIX</td>\n",
       "      <td>Stitch Fix, Inc.</td>\n",
       "      <td>Consumer Cyclical</td>\n",
       "      <td>Apparel Retail</td>\n",
       "      <td>-</td>\n",
       "      <td>0.00</td>\n",
       "      <td>-33.90%</td>\n",
       "      <td>-85.10%</td>\n",
       "      <td>-63.70%</td>\n",
       "    </tr>\n",
       "  </tbody>\n",
       "</table>\n",
       "</div>"
      ],
      "text/plain": [
       "  Ticker\\n\\n           Company             Sector        Industry P/E Debt/Eq  \\\n",
       "0       SFIX  Stitch Fix, Inc.  Consumer Cyclical  Apparel Retail   -    0.00   \n",
       "\n",
       "       ROA      ROE      ROI  \n",
       "0  -33.90%  -85.10%  -63.70%  "
      ]
     },
     "execution_count": 4,
     "metadata": {},
     "output_type": "execute_result"
    }
   ],
   "source": [
    "main_stock_info[['Ticker\\n\\n','Company','Sector','Industry','P/E','Debt/Eq','ROA','ROE','ROI']]"
   ]
  },
  {
   "cell_type": "markdown",
   "metadata": {},
   "source": [
    "### Step 2: Find similar companies to the given stock ticker"
   ]
  },
  {
   "cell_type": "code",
   "execution_count": 7,
   "metadata": {},
   "outputs": [
    {
     "name": "stderr",
     "output_type": "stream",
     "text": [
      "2023-08-05 20:38:00,779 - root - INFO - call screener data of similar stocks to main starter stock\n",
      "2023-08-05 20:38:00,965 - urllib3.connectionpool - DEBUG - https://finviz.com:443 \"GET /screener.ashx?v=151&f=sec_consumercyclical,ind_apparelretail,geo_usa&ft=4&c=0,1,2,3,4,5,6,7,8,9,10,11,12,13,14,15,16,17,18,19,20,21,22,23,24,25,26,27,28,29,30,31,32,33,34,35,36,37,38,39,40,41,42,43,44,45,46,47,48,49,50,51,52,53,54,55,56,57,58,59,60,61,62,63,64,65,66,67,68,69,70 HTTP/1.1\" 200 None\n"
     ]
    },
    {
     "name": "stdout",
     "output_type": "stream",
     "text": [
      "[Info] loading page [##############################] 2/2 \r"
     ]
    },
    {
     "name": "stderr",
     "output_type": "stream",
     "text": [
      "2023-08-05 20:38:02,274 - urllib3.connectionpool - DEBUG - https://finviz.com:443 \"GET /screener.ashx?v=151&f=sec_consumercyclical,ind_apparelretail,geo_usa&ft=4&r=21&c=0,1,2,3,4,5,6,7,8,9,10,11,12,13,14,15,16,17,18,19,20,21,22,23,24,25,26,27,28,29,30,31,32,33,34,35,36,37,38,39,40,41,42,43,44,45,46,47,48,49,50,51,52,53,54,55,56,57,58,59,60,61,62,63,64,65,66,67,68,69,70 HTTP/1.1\" 200 None\n",
      "2023-08-05 20:38:02,345 - root - INFO - extract Market Cap data to create lower limit for competitor comps\n"
     ]
    }
   ],
   "source": [
    "sector_stock_info = fv.screen_stcks(main_stock_info)"
   ]
  },
  {
   "cell_type": "markdown",
   "metadata": {},
   "source": [
    "Some quick info on the companies that were filtered into our data"
   ]
  },
  {
   "cell_type": "code",
   "execution_count": 8,
   "metadata": {},
   "outputs": [
    {
     "name": "stdout",
     "output_type": "stream",
     "text": [
      "# of companies that fit the filters = 20\n",
      "Sector: Consumer Cyclical   ///   Industry: Apparel Retail\n",
      "Market cap range(min-max): 62.0M - 3.0B\n",
      "Debt/Eq ratio range: 0.0 - 0.37\n"
     ]
    }
   ],
   "source": [
    "lngth_df = len(sector_stock_info)\n",
    "print(f\"# of companies that fit the filters = {lngth_df}\")\n",
    "print(f\"Sector: {sector_stock_info['Sector'][0]}   ///   Industry: {sector_stock_info['Industry'][0]}\")\n",
    "print(f\"Market cap range(min-max): {sector_stock_info['Market Cap'].min()//1e6}M - {sector_stock_info['Market Cap'].max()//1e9}B\")\n",
    "print(f\"Debt/Eq ratio range: {sector_stock_info['Debt/Eq'].min()} - {sector_stock_info['Debt/Eq'].max()}\")\n"
   ]
  },
  {
   "cell_type": "markdown",
   "metadata": {},
   "source": [
    "In this example we have quite a few contenders for investment but we have no reference yet on how these companies are related in terms of financial quality and value in order to know where to spend our time researching into best opportunities for investing.\\\n",
    "So we need to *rank* our companies and see how they compare to each other.\n"
   ]
  },
  {
   "cell_type": "markdown",
   "metadata": {},
   "source": []
  },
  {
   "cell_type": "code",
   "execution_count": 9,
   "metadata": {},
   "outputs": [],
   "source": [
    "ranked_stock_info = fv.rank_screener(sector_stock_info, user_stock)"
   ]
  },
  {
   "cell_type": "code",
   "execution_count": 17,
   "metadata": {},
   "outputs": [
    {
     "name": "stdout",
     "output_type": "stream",
     "text": [
      "   Ticker\\n\\n           Company cat_desc   Market Cap  P/E  P/S   P/B  P/FCF  \\\n",
      "18       SFIX  Stitch Fix, Inc.     Main  527890000.0  NaN  0.3  2.11    NaN   \n",
      "\n",
      "     EPS    ROA    ROE    ROI  \n",
      "18 -2.15 -0.339 -0.851 -0.637  \n",
      "\n",
      "  Ticker\\n\\n                     Company  cat_desc   Market Cap   P/E   P/S  \\\n",
      "0       EXPR               Express, Inc.  Top Comp   62970000.0  0.27  0.04   \n",
      "1       DXLG  Destination XL Group, Inc.  Top Comp  311700000.0  4.01  0.57   \n",
      "2        GCO                Genesco Inc.  Top Comp  360730000.0  7.54  0.15   \n",
      "\n",
      "    P/B  P/FCF   EPS    ROA    ROE    ROI  \n",
      "0  0.27    NaN  3.19  0.181  1.821  0.748  \n",
      "1  2.15   6.62  1.24  0.241  0.626  0.651  \n",
      "2  0.59    NaN  3.88  0.032  0.083  0.116  \n",
      "\n",
      "   Ticker\\n\\n           Company cat_desc    Market Cap    P/E   P/S  P/B  \\\n",
      "20      _AVG_  Stitch Fix, Inc.  Grp Avg  1.066280e+09  18.21  0.53  1.7   \n",
      "\n",
      "    P/FCF   EPS   ROA   ROE   ROI  \n",
      "20  33.02  2.13  0.04  0.18  0.16  \n"
     ]
    }
   ],
   "source": [
    "print(ranked_stock_info.loc[ranked_stock_info['cat_grp'] == 1, ['Ticker\\n\\n','Company', 'cat_desc','Market Cap','P/E','P/S','P/B','P/FCF','EPS','ROA','ROE','ROI']])\n",
    "print()\n",
    "print(ranked_stock_info.loc[ranked_stock_info['cat_grp'] == 2, ['Ticker\\n\\n','Company','cat_desc','Market Cap','P/E','P/S','P/B','P/FCF','EPS','ROA','ROE','ROI']])\n",
    "print()\n",
    "print(ranked_stock_info.loc[ranked_stock_info['cat_grp'] == 3, ['Ticker\\n\\n','Company','cat_desc','Market Cap','P/E','P/S','P/B','P/FCF','EPS','ROA','ROE','ROI']])\n"
   ]
  },
  {
   "cell_type": "code",
   "execution_count": null,
   "metadata": {},
   "outputs": [],
   "source": []
  }
 ],
 "metadata": {
  "kernelspec": {
   "display_name": "final_project_venv",
   "language": "python",
   "name": "finpro"
  },
  "language_info": {
   "codemirror_mode": {
    "name": "ipython",
    "version": 3
   },
   "file_extension": ".py",
   "mimetype": "text/x-python",
   "name": "python",
   "nbconvert_exporter": "python",
   "pygments_lexer": "ipython3",
   "version": "3.10.9"
  },
  "orig_nbformat": 4
 },
 "nbformat": 4,
 "nbformat_minor": 2
}
